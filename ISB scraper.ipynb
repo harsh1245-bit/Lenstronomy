{
  "nbformat": 4,
  "nbformat_minor": 0,
  "metadata": {
    "colab": {
      "name": "Untitled5.ipynb",
      "provenance": [],
      "authorship_tag": "ABX9TyPLEW9i8/iysYh2F+Pmcmuj",
      "include_colab_link": true
    },
    "kernelspec": {
      "name": "python3",
      "display_name": "Python 3"
    },
    "language_info": {
      "name": "python"
    }
  },
  "cells": [
    {
      "cell_type": "markdown",
      "metadata": {
        "id": "view-in-github",
        "colab_type": "text"
      },
      "source": [
        "<a href=\"https://colab.research.google.com/github/harsh1245-bit/Lenstronomy/blob/main/ISB%20scraper.ipynb\" target=\"_parent\"><img src=\"https://colab.research.google.com/assets/colab-badge.svg\" alt=\"Open In Colab\"/></a>"
      ]
    },
    {
      "cell_type": "code",
      "metadata": {
        "id": "Q9sZUoNh2769"
      },
      "source": [
        "import pandas as pd"
      ],
      "execution_count": 2,
      "outputs": []
    },
    {
      "cell_type": "code",
      "metadata": {
        "id": "9AfIO4CG2-fd"
      },
      "source": [
        "State = []\n",
        "Party = []\n",
        "Year = []\n",
        "Manifesto = []"
      ],
      "execution_count": 3,
      "outputs": []
    },
    {
      "cell_type": "code",
      "metadata": {
        "id": "zxeaucfk3F3J"
      },
      "source": [
        "State.append('Andhra pradesh')\n",
        "Party.append('Congress')\n",
        "Year.append('2019')"
      ],
      "execution_count": 30,
      "outputs": []
    },
    {
      "cell_type": "code",
      "metadata": {
        "id": "MxjpIekR3TFb"
      },
      "source": [
        "import requests\n",
        "import bs4\n",
        "res = requests . get (\"https://www.moneycontrol.com/news/india/congress-releases-manifesto-for-lok-sabha-polls-in-andhra-pradesh-3684411.html\")"
      ],
      "execution_count": 31,
      "outputs": []
    },
    {
      "cell_type": "code",
      "metadata": {
        "id": "eJUmseMi4EG4"
      },
      "source": [
        "soup = bs4 . BeautifulSoup ( res . text ,'lxml' )"
      ],
      "execution_count": 32,
      "outputs": []
    },
    {
      "cell_type": "code",
      "metadata": {
        "colab": {
          "base_uri": "https://localhost:8080/"
        },
        "id": "UEWlsHy84G5p",
        "outputId": "9fe39fa5-e1e6-4144-af4d-7b14369bdc11"
      },
      "source": [
        "article = ''\n",
        "i =  soup.find(\"div\",{\"class\" : \"content_wrapper arti-flow\"})\n",
        "j = i.find_all(\"p\")\n",
        "for k in j:\n",
        "  article += k.text.replace('\\n',' ')\n",
        "\n",
        "  print(k.text)\n",
        "Manifesto.append(article)"
      ],
      "execution_count": 33,
      "outputs": [
        {
          "output_type": "stream",
          "text": [
            "The Congress released its manifesto on Friday for the April 11 general elections in Andhra Pradesh, promising to accord Special Category Status to the state on the first day of coming to power (at the Centre).\n",
            "It also promised to implement all other provisions of the AP Reorganisation Act, 2014.\n",
            "Andhra Pradesh Congress Committee president N Raghuveera Reddy, Manifesto Committee chairman Kanumuri Bapiraju and other leaders released the manifesto at the state party office here.\n",
            "The main promises include waiver of loans up to Rs two lakh for all farmers, tenant farmers and women Self Help Groups; extension of interest-free loans to farmers, tenant farmers and SHGs; creation of a Rs 5,000 crore price stabilization fund to ensure remunerative prices for farm produce and introduction of a minimum income guarantee scheme.\n",
            "All vacant government posts would be filled up within 100 days if the Congress came to power,the manifesto promised.\n",
            "\"We will implement a Bundelkhand-type special development package for backward districts in the state.\n",
            "Prakasam will also be included in the backward districts along with four in Rayalaseema and three north-coastal Andhra.\n",
            "We will establish a full-fledged railway zone in Visakhapatnam if voted to power,\" Raghuveera Reddy told reporters on the occasion.\n",
            "The Right to Information Act and the Right to Education Act would be effectively implemented, he said.\n",
            "While petrol and diesel would be brought under GST regime, the handloom sector would be exempted.\n",
            "\"We will bring out district-specific manifestos within a week, in tune with the wishes of the people.\n",
            "We will ensure their implementation in five years,\" the PCC chief promised.\n",
            "Old-age pension of Rs 2000 a month would be given to those aged under 60 years, Rs 2,500 up to 70 years and Rs 3,000 to those above 70 years.\n"
          ],
          "name": "stdout"
        }
      ]
    },
    {
      "cell_type": "code",
      "metadata": {
        "id": "QKTXibGL4kt1",
        "colab": {
          "base_uri": "https://localhost:8080/"
        },
        "outputId": "8afb271f-2cec-45b4-bddb-fb11dc04609a"
      },
      "source": [
        "len(Manifesto),len(Party)"
      ],
      "execution_count": 35,
      "outputs": [
        {
          "output_type": "execute_result",
          "data": {
            "text/plain": [
              "(5, 5)"
            ]
          },
          "metadata": {
            "tags": []
          },
          "execution_count": 35
        }
      ]
    },
    {
      "cell_type": "code",
      "metadata": {
        "id": "nxQkzpEkF-Rj"
      },
      "source": [
        "\n",
        "source.append('https://www.moneycontrol.com/news/india/congress-releases-manifesto-for-lok-sabha-polls-in-andhra-pradesh-3684411.html')"
      ],
      "execution_count": 34,
      "outputs": []
    },
    {
      "cell_type": "code",
      "metadata": {
        "id": "qihT-F8gW1U4"
      },
      "source": [
        ""
      ],
      "execution_count": null,
      "outputs": []
    }
  ]
}